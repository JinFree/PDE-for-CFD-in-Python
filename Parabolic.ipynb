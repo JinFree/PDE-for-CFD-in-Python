{
  "nbformat": 4,
  "nbformat_minor": 0,
  "metadata": {
    "colab": {
      "name": "Parabolic.ipynb",
      "version": "0.3.2",
      "provenance": [],
      "include_colab_link": true
    },
    "kernelspec": {
      "name": "python3",
      "display_name": "Python 3"
    }
  },
  "cells": [
    {
      "cell_type": "markdown",
      "metadata": {
        "id": "view-in-github",
        "colab_type": "text"
      },
      "source": [
        "<a href=\"https://colab.research.google.com/github/JinFree/PDE-for-CFD-in-Python/blob/master/Parabolic.ipynb\" target=\"_parent\"><img src=\"https://colab.research.google.com/assets/colab-badge.svg\" alt=\"Open In Colab\"/></a>"
      ]
    },
    {
      "cell_type": "markdown",
      "metadata": {
        "id": "DUQjdB2Zih1n",
        "colab_type": "text"
      },
      "source": [
        "# Parabolic PDE"
      ]
    },
    {
      "cell_type": "markdown",
      "metadata": {
        "id": "3i1M1Nk3ink3",
        "colab_type": "text"
      },
      "source": [
        "## 확산방정식"
      ]
    },
    {
      "cell_type": "markdown",
      "metadata": {
        "id": "iy93UfScikgo",
        "colab_type": "text"
      },
      "source": [
        "* 확산방정식의 형태는 아래와 같음.\n",
        "\\begin{equation}\n",
        "\\frac{\\partial{u}}{\\partial{y}} = \\nu \\frac{\\partial^{2}{u}}{\\partial{y}^{2}}\n",
        "\\end{equation}\n",
        "* Explicit FTCS 방법으로 푸는 예제임\n",
        " * FT = Forward Time\n",
        "\\begin{equation}\n",
        "\\frac{\\partial{u}}{\\partial{y}} = \\frac{u_{i}^{n+1}-u_{i}^{n}}{\\triangle{t}}\n",
        "\\end{equation}\n",
        " * CS = Central Space\n",
        "\\begin{equation}\n",
        "\\nu\\frac{\\partial^{2}{u}}{\\partial{y}^{2}} = \\nu\\frac{u_{i+1}^{n}-2u_{i}^{n}+u_{i-1}^{n}}{{\\triangle{y}}^2}\n",
        "\\end{equation}\n",
        "* 정리하면 아래와 같음\n",
        "\\begin{equation}\n",
        "u_{i}^{n+1} = du_{i+1}^{n} + (1-2d)u_{i}^{n}+du_{i-1}^{n}\n",
        "\\end{equation}\n",
        "\\begin{equation}\n",
        "d = \\frac{\\nu\\triangle{t}}{{\\triangle{y}}^2}\n",
        "\\end{equation}\n",
        "* 위의 방정식을 아래와 같은 조건으로 풀이함.\n",
        " * 환경 조건\n",
        "\\begin{equation}\n",
        "0m<y<0.04m\n",
        "\\end{equation}\n",
        "\\begin{equation}\n",
        "\\nu = 0.000217m^2/s\n",
        "\\end{equation}\n",
        "\\begin{equation}\n",
        "\\triangle{t}=0.000001s\n",
        "\\end{equation}\n",
        "\\begin{equation}\n",
        "\\triangle{y}=0.001m\n",
        "\\end{equation}\n",
        " * 초기값 조건\n",
        "\\begin{equation}\n",
        "u_{t=0} = 0m/s\n",
        "\\end{equation}\n",
        " * 경계 조건\n",
        "\\begin{equation}\n",
        "u_{h=0m} = 40m/s\n",
        "\\end{equation}\n",
        "\\begin{equation}\n",
        "u_{h=0.04m}=0m/s\n",
        "\\end{equation}\n"
      ]
    },
    {
      "cell_type": "markdown",
      "metadata": {
        "id": "3VJaj0VWkoC6",
        "colab_type": "text"
      },
      "source": [
        "## 확산방정식 풀이를 위한 모듈 불러오기"
      ]
    },
    {
      "cell_type": "code",
      "metadata": {
        "id": "ahfGw8FUics-",
        "colab_type": "code",
        "colab": {}
      },
      "source": [
        "import numpy as np"
      ],
      "execution_count": 0,
      "outputs": []
    },
    {
      "cell_type": "markdown",
      "metadata": {
        "id": "cAibeFLHkmcA",
        "colab_type": "text"
      },
      "source": [
        "## 주어진 조건에 따른 기본 변수 설정"
      ]
    },
    {
      "cell_type": "code",
      "metadata": {
        "id": "k-tZAsCckd2T",
        "colab_type": "code",
        "colab": {
          "base_uri": "https://localhost:8080/",
          "height": 35
        },
        "outputId": "59d912e3-5e1b-4650-9713-144a23d99c38"
      },
      "source": [
        "h = 0.04\n",
        "nu = 0.00217\n",
        "dy = 0.001\n",
        "dt = 0.00001\n",
        "u0 = 40.0\n",
        "d = nu * dt / ( dy * dy )\n",
        "t_end = 0.005\n",
        "iteration = int(t_end / dt)\n",
        "time = 0.0\n",
        "number_of_grids = int(h / dy) + 1\n",
        "U = np.zeros(number_of_grids, dtype=np.float32)\n",
        "Unew = np.zeros(number_of_grids, dtype=np.float32)\n",
        "print(\"Diffusion number is %.4f\"%d)"
      ],
      "execution_count": 54,
      "outputs": [
        {
          "output_type": "stream",
          "text": [
            "Diffusion number is 0.0217\n"
          ],
          "name": "stdout"
        }
      ]
    },
    {
      "cell_type": "markdown",
      "metadata": {
        "id": "46IkLz9zpOJZ",
        "colab_type": "text"
      },
      "source": [
        "## 초기값 설정"
      ]
    },
    {
      "cell_type": "code",
      "metadata": {
        "id": "FkSbVUZFpQuF",
        "colab_type": "code",
        "colab": {}
      },
      "source": [
        "def initial_condition(U, Unew):\n",
        "    U = np.zeros(number_of_grids)\n",
        "    Unew = np.zeros(number_of_grids)\n",
        "    return U, Unew"
      ],
      "execution_count": 0,
      "outputs": []
    },
    {
      "cell_type": "markdown",
      "metadata": {
        "id": "YQei9PdUpa3d",
        "colab_type": "text"
      },
      "source": [
        "## 경계 조건 설정"
      ]
    },
    {
      "cell_type": "code",
      "metadata": {
        "id": "1FO0MCJpk0tC",
        "colab_type": "code",
        "colab": {}
      },
      "source": [
        "def boundary_condition(U, Unew):\n",
        "    U[0] = Unew[0] = u0\n",
        "    return U, Unew"
      ],
      "execution_count": 0,
      "outputs": []
    },
    {
      "cell_type": "markdown",
      "metadata": {
        "id": "AvdfoZqYB6-5",
        "colab_type": "text"
      },
      "source": [
        "## FTCS 연산 함수"
      ]
    },
    {
      "cell_type": "code",
      "metadata": {
        "id": "9u7ka-_yCJ4Q",
        "colab_type": "code",
        "colab": {}
      },
      "source": [
        "def FTCS_Numpy(U, Unew, diffusion):\n",
        "    U[0] = Unew[0] = u0\n",
        "    for i in range(1, len(U)-1, 1):\n",
        "        Unew[i] = diffusion * (U[i-1] + U[i+1]) + (1.0 - 2.0 * diffusion) * U[i]\n",
        "    return Unew\n",
        "\n",
        "def Explicit_Solver(U, Unew, diffusion, iteration, time):\n",
        "    for i in range(iteration + 1):\n",
        "        FTCS_Numpy(U, Unew, diffusion)\n",
        "        U = np.copy(Unew)\n",
        "        time += dt\n",
        " #       print(\"\\rtime = %.6f\" % time, end=\"\")\n",
        " #   print()\n",
        "    return U"
      ],
      "execution_count": 0,
      "outputs": []
    },
    {
      "cell_type": "markdown",
      "metadata": {
        "id": "2teLxkxCpl2y",
        "colab_type": "text"
      },
      "source": [
        "## CPU기반 Numpy를 이용한 풀이 함수"
      ]
    },
    {
      "cell_type": "code",
      "metadata": {
        "id": "sXCLLWM8Jb4E",
        "colab_type": "code",
        "colab": {
          "base_uri": "https://localhost:8080/",
          "height": 35
        },
        "outputId": "a981148d-b122-463c-a52d-18be4cb68c73"
      },
      "source": [
        "def Parabolic_Numpy_CPU(U, Unew, diffusion, iteration, time):\n",
        "    U, Unew = initial_condition(U, Unew)\n",
        "    U, Unew = boundary_condition(U, Unew)\n",
        "    U = Explicit_Solver(U, Unew, diffusion, iteration, time)\n",
        "    return U\n",
        "U_numpy_cpu = Parabolic_Numpy_CPU(U, Unew, d, iteration, time)"
      ],
      "execution_count": 55,
      "outputs": [
        {
          "output_type": "stream",
          "text": [
            "\rtime = 0.000010\rtime = 0.000020\rtime = 0.000030\rtime = 0.000040\rtime = 0.000050\rtime = 0.000060\rtime = 0.000070\rtime = 0.000080\rtime = 0.000090\rtime = 0.000100\rtime = 0.000110\rtime = 0.000120\rtime = 0.000130\rtime = 0.000140\rtime = 0.000150\rtime = 0.000160\rtime = 0.000170\rtime = 0.000180\rtime = 0.000190\rtime = 0.000200\rtime = 0.000210\rtime = 0.000220\rtime = 0.000230\rtime = 0.000240\rtime = 0.000250\rtime = 0.000260\rtime = 0.000270\rtime = 0.000280\rtime = 0.000290\rtime = 0.000300\rtime = 0.000310\rtime = 0.000320\rtime = 0.000330\rtime = 0.000340\rtime = 0.000350\rtime = 0.000360\rtime = 0.000370\rtime = 0.000380\rtime = 0.000390\rtime = 0.000400\rtime = 0.000410\rtime = 0.000420\rtime = 0.000430\rtime = 0.000440\rtime = 0.000450\rtime = 0.000460\rtime = 0.000470\rtime = 0.000480\rtime = 0.000490\rtime = 0.000500\rtime = 0.000510\rtime = 0.000520\rtime = 0.000530\rtime = 0.000540\rtime = 0.000550\rtime = 0.000560\rtime = 0.000570\rtime = 0.000580\rtime = 0.000590\rtime = 0.000600\rtime = 0.000610\rtime = 0.000620\rtime = 0.000630\rtime = 0.000640\rtime = 0.000650\rtime = 0.000660\rtime = 0.000670\rtime = 0.000680\rtime = 0.000690\rtime = 0.000700\rtime = 0.000710\rtime = 0.000720\rtime = 0.000730\rtime = 0.000740\rtime = 0.000750\rtime = 0.000760\rtime = 0.000770\rtime = 0.000780\rtime = 0.000790\rtime = 0.000800\rtime = 0.000810\rtime = 0.000820\rtime = 0.000830\rtime = 0.000840\rtime = 0.000850\rtime = 0.000860\rtime = 0.000870\rtime = 0.000880\rtime = 0.000890\rtime = 0.000900\rtime = 0.000910\rtime = 0.000920\rtime = 0.000930\rtime = 0.000940\rtime = 0.000950\rtime = 0.000960\rtime = 0.000970\rtime = 0.000980\rtime = 0.000990\rtime = 0.001000\rtime = 0.001010\rtime = 0.001020\rtime = 0.001030\rtime = 0.001040\rtime = 0.001050\rtime = 0.001060\rtime = 0.001070\rtime = 0.001080\rtime = 0.001090\rtime = 0.001100\rtime = 0.001110\rtime = 0.001120\rtime = 0.001130\rtime = 0.001140\rtime = 0.001150\rtime = 0.001160\rtime = 0.001170\rtime = 0.001180\rtime = 0.001190\rtime = 0.001200\rtime = 0.001210\rtime = 0.001220\rtime = 0.001230\rtime = 0.001240\rtime = 0.001250\rtime = 0.001260\rtime = 0.001270\rtime = 0.001280\rtime = 0.001290\rtime = 0.001300\rtime = 0.001310\rtime = 0.001320\rtime = 0.001330\rtime = 0.001340\rtime = 0.001350\rtime = 0.001360\rtime = 0.001370\rtime = 0.001380\rtime = 0.001390\rtime = 0.001400\rtime = 0.001410\rtime = 0.001420\rtime = 0.001430\rtime = 0.001440\rtime = 0.001450\rtime = 0.001460\rtime = 0.001470\rtime = 0.001480\rtime = 0.001490\rtime = 0.001500\rtime = 0.001510\rtime = 0.001520\rtime = 0.001530\rtime = 0.001540\rtime = 0.001550\rtime = 0.001560\rtime = 0.001570\rtime = 0.001580\rtime = 0.001590\rtime = 0.001600\rtime = 0.001610\rtime = 0.001620\rtime = 0.001630\rtime = 0.001640\rtime = 0.001650\rtime = 0.001660\rtime = 0.001670\rtime = 0.001680\rtime = 0.001690\rtime = 0.001700\rtime = 0.001710\rtime = 0.001720\rtime = 0.001730\rtime = 0.001740\rtime = 0.001750\rtime = 0.001760\rtime = 0.001770\rtime = 0.001780\rtime = 0.001790\rtime = 0.001800\rtime = 0.001810\rtime = 0.001820\rtime = 0.001830\rtime = 0.001840\rtime = 0.001850\rtime = 0.001860\rtime = 0.001870\rtime = 0.001880\rtime = 0.001890\rtime = 0.001900\rtime = 0.001910\rtime = 0.001920\rtime = 0.001930\rtime = 0.001940\rtime = 0.001950\rtime = 0.001960\rtime = 0.001970\rtime = 0.001980\rtime = 0.001990\rtime = 0.002000\rtime = 0.002010\rtime = 0.002020\rtime = 0.002030\rtime = 0.002040\rtime = 0.002050\rtime = 0.002060\rtime = 0.002070\rtime = 0.002080\rtime = 0.002090\rtime = 0.002100\rtime = 0.002110\rtime = 0.002120\rtime = 0.002130\rtime = 0.002140\rtime = 0.002150\rtime = 0.002160\rtime = 0.002170\rtime = 0.002180\rtime = 0.002190\rtime = 0.002200\rtime = 0.002210\rtime = 0.002220\rtime = 0.002230\rtime = 0.002240\rtime = 0.002250\rtime = 0.002260\rtime = 0.002270\rtime = 0.002280\rtime = 0.002290\rtime = 0.002300\rtime = 0.002310\rtime = 0.002320\rtime = 0.002330\rtime = 0.002340\rtime = 0.002350\rtime = 0.002360\rtime = 0.002370\rtime = 0.002380\rtime = 0.002390\rtime = 0.002400\rtime = 0.002410\rtime = 0.002420\rtime = 0.002430\rtime = 0.002440\rtime = 0.002450\rtime = 0.002460\rtime = 0.002470\rtime = 0.002480\rtime = 0.002490\rtime = 0.002500\rtime = 0.002510\rtime = 0.002520\rtime = 0.002530\rtime = 0.002540\rtime = 0.002550\rtime = 0.002560\rtime = 0.002570\rtime = 0.002580\rtime = 0.002590\rtime = 0.002600\rtime = 0.002610\rtime = 0.002620\rtime = 0.002630\rtime = 0.002640\rtime = 0.002650\rtime = 0.002660\rtime = 0.002670\rtime = 0.002680\rtime = 0.002690\rtime = 0.002700\rtime = 0.002710\rtime = 0.002720\rtime = 0.002730\rtime = 0.002740\rtime = 0.002750\rtime = 0.002760\rtime = 0.002770\rtime = 0.002780\rtime = 0.002790\rtime = 0.002800\rtime = 0.002810\rtime = 0.002820\rtime = 0.002830\rtime = 0.002840\rtime = 0.002850\rtime = 0.002860\rtime = 0.002870\rtime = 0.002880\rtime = 0.002890\rtime = 0.002900\rtime = 0.002910\rtime = 0.002920\rtime = 0.002930\rtime = 0.002940\rtime = 0.002950\rtime = 0.002960\rtime = 0.002970\rtime = 0.002980\rtime = 0.002990\rtime = 0.003000\rtime = 0.003010\rtime = 0.003020\rtime = 0.003030\rtime = 0.003040\rtime = 0.003050\rtime = 0.003060\rtime = 0.003070\rtime = 0.003080\rtime = 0.003090\rtime = 0.003100\rtime = 0.003110\rtime = 0.003120\rtime = 0.003130\rtime = 0.003140\rtime = 0.003150\rtime = 0.003160\rtime = 0.003170\rtime = 0.003180\rtime = 0.003190\rtime = 0.003200\rtime = 0.003210\rtime = 0.003220\rtime = 0.003230\rtime = 0.003240\rtime = 0.003250\rtime = 0.003260\rtime = 0.003270\rtime = 0.003280\rtime = 0.003290\rtime = 0.003300\rtime = 0.003310\rtime = 0.003320\rtime = 0.003330\rtime = 0.003340\rtime = 0.003350\rtime = 0.003360\rtime = 0.003370\rtime = 0.003380\rtime = 0.003390\rtime = 0.003400\rtime = 0.003410\rtime = 0.003420\rtime = 0.003430\rtime = 0.003440\rtime = 0.003450\rtime = 0.003460\rtime = 0.003470\rtime = 0.003480\rtime = 0.003490\rtime = 0.003500\rtime = 0.003510\rtime = 0.003520\rtime = 0.003530\rtime = 0.003540\rtime = 0.003550\rtime = 0.003560\rtime = 0.003570\rtime = 0.003580\rtime = 0.003590\rtime = 0.003600\rtime = 0.003610\rtime = 0.003620\rtime = 0.003630\rtime = 0.003640\rtime = 0.003650\rtime = 0.003660\rtime = 0.003670\rtime = 0.003680\rtime = 0.003690\rtime = 0.003700\rtime = 0.003710\rtime = 0.003720\rtime = 0.003730\rtime = 0.003740\rtime = 0.003750\rtime = 0.003760\rtime = 0.003770\rtime = 0.003780\rtime = 0.003790\rtime = 0.003800\rtime = 0.003810\rtime = 0.003820\rtime = 0.003830\rtime = 0.003840\rtime = 0.003850\rtime = 0.003860\rtime = 0.003870\rtime = 0.003880\rtime = 0.003890\rtime = 0.003900\rtime = 0.003910\rtime = 0.003920\rtime = 0.003930\rtime = 0.003940\rtime = 0.003950\rtime = 0.003960\rtime = 0.003970\rtime = 0.003980\rtime = 0.003990\rtime = 0.004000\rtime = 0.004010\rtime = 0.004020\rtime = 0.004030\rtime = 0.004040\rtime = 0.004050\rtime = 0.004060\rtime = 0.004070\rtime = 0.004080\rtime = 0.004090\rtime = 0.004100\rtime = 0.004110\rtime = 0.004120\rtime = 0.004130\rtime = 0.004140\rtime = 0.004150\rtime = 0.004160\rtime = 0.004170\rtime = 0.004180\rtime = 0.004190\rtime = 0.004200\rtime = 0.004210\rtime = 0.004220\rtime = 0.004230\rtime = 0.004240\rtime = 0.004250\rtime = 0.004260\rtime = 0.004270\rtime = 0.004280\rtime = 0.004290\rtime = 0.004300\rtime = 0.004310\rtime = 0.004320\rtime = 0.004330\rtime = 0.004340\rtime = 0.004350\rtime = 0.004360\rtime = 0.004370\rtime = 0.004380\rtime = 0.004390\rtime = 0.004400\rtime = 0.004410\rtime = 0.004420\rtime = 0.004430\rtime = 0.004440\rtime = 0.004450\rtime = 0.004460\rtime = 0.004470\rtime = 0.004480\rtime = 0.004490\rtime = 0.004500\rtime = 0.004510\rtime = 0.004520\rtime = 0.004530\rtime = 0.004540\rtime = 0.004550\rtime = 0.004560\rtime = 0.004570\rtime = 0.004580\rtime = 0.004590\rtime = 0.004600\rtime = 0.004610\rtime = 0.004620\rtime = 0.004630\rtime = 0.004640\rtime = 0.004650\rtime = 0.004660\rtime = 0.004670\rtime = 0.004680\rtime = 0.004690\rtime = 0.004700\rtime = 0.004710\rtime = 0.004720\rtime = 0.004730\rtime = 0.004740\rtime = 0.004750\rtime = 0.004760\rtime = 0.004770\rtime = 0.004780\rtime = 0.004790\rtime = 0.004800\rtime = 0.004810\rtime = 0.004820\rtime = 0.004830\rtime = 0.004840\rtime = 0.004850\rtime = 0.004860\rtime = 0.004870\rtime = 0.004880\rtime = 0.004890\rtime = 0.004900\rtime = 0.004910\rtime = 0.004920\rtime = 0.004930\rtime = 0.004940\rtime = 0.004950\rtime = 0.004960\rtime = 0.004970\rtime = 0.004980\rtime = 0.004990\rtime = 0.005000\n"
          ],
          "name": "stdout"
        }
      ]
    },
    {
      "cell_type": "markdown",
      "metadata": {
        "id": "EIPFlhwtJ6Nd",
        "colab_type": "text"
      },
      "source": [
        "## 연산 결과를 plotting 하기 위한 함수"
      ]
    },
    {
      "cell_type": "code",
      "metadata": {
        "id": "c5r6DZUhJ9hA",
        "colab_type": "code",
        "colab": {
          "base_uri": "https://localhost:8080/",
          "height": 291
        },
        "outputId": "bac815e0-e12e-4670-f34c-ce223d5ef2a3"
      },
      "source": [
        "import matplotlib as mpl\n",
        "import matplotlib.pyplot as plt\n",
        "plt.style.use('classic')\n",
        "%matplotlib inline\n",
        "fig = plt.figure()\n",
        "plt.plot(U_numpy_cpu)"
      ],
      "execution_count": 56,
      "outputs": [
        {
          "output_type": "execute_result",
          "data": {
            "text/plain": [
              "[<matplotlib.lines.Line2D at 0x7f42d75c1ef0>]"
            ]
          },
          "metadata": {
            "tags": []
          },
          "execution_count": 56
        },
        {
          "output_type": "display_data",
          "data": {
            "image/png": "[encoded data removed]",
            "text/plain": [
              "<Figure size 432x288 with 1 Axes>"
            ]
          },
          "metadata": {
            "tags": []
          }
        }
      ]
    },
    {
      "cell_type": "code",
      "metadata": {
        "id": "KgTNBEICLbb8",
        "colab_type": "code",
        "colab": {
          "base_uri": "https://localhost:8080/",
          "height": 35
        },
        "outputId": "df74ab15-c38a-4397-be72-3459d3e856d8"
      },
      "source": [
        "%timeit U_numpy_cpu = Parabolic_Numpy_CPU(U, Unew, d, iteration, time)"
      ],
      "execution_count": 59,
      "outputs": [
        {
          "output_type": "stream",
          "text": [
            "100 loops, best of 3: 13.9 ms per loop\n"
          ],
          "name": "stdout"
        }
      ]
    },
    {
      "cell_type": "code",
      "metadata": {
        "id": "BEZvuXqZM8of",
        "colab_type": "code",
        "colab": {}
      },
      "source": [
        ""
      ],
      "execution_count": 0,
      "outputs": []
    }
  ]
}