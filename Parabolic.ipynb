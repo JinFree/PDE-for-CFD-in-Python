{
  "nbformat": 4,
  "nbformat_minor": 0,
  "metadata": {
    "colab": {
      "name": "Parabolic.ipynb",
      "version": "0.3.2",
      "provenance": [],
      "include_colab_link": true
    },
    "kernelspec": {
      "name": "python3",
      "display_name": "Python 3"
    },
    "accelerator": "GPU"
  },
  "cells": [
    {
      "cell_type": "markdown",
      "metadata": {
        "id": "view-in-github",
        "colab_type": "text"
      },
      "source": [
        "<a href=\"https://colab.research.google.com/github/JinFree/PDE-for-CFD-in-Python/blob/master/Parabolic.ipynb\" target=\"_parent\"><img src=\"https://colab.research.google.com/assets/colab-badge.svg\" alt=\"Open In Colab\"/></a>"
      ]
    },
    {
      "cell_type": "markdown",
      "metadata": {
        "id": "DUQjdB2Zih1n",
        "colab_type": "text"
      },
      "source": [
        "# Parabolic PDE"
      ]
    },
    {
      "cell_type": "markdown",
      "metadata": {
        "id": "3i1M1Nk3ink3",
        "colab_type": "text"
      },
      "source": [
        "## 확산방정식"
      ]
    },
    {
      "cell_type": "markdown",
      "metadata": {
        "id": "iy93UfScikgo",
        "colab_type": "text"
      },
      "source": [
        "* 확산방정식의 형태는 아래와 같음.\n",
        "\\begin{equation}\n",
        "\\frac{\\partial{u}}{\\partial{y}} = \\nu \\frac{\\partial^{2}{u}}{\\partial{y}^{2}}\n",
        "\\end{equation}\n",
        "* Explicit FTCS 방법으로 푸는 예제임\n",
        " * FT = Forward Time\n",
        "\\begin{equation}\n",
        "\\frac{\\partial{u}}{\\partial{y}} = \\frac{u_{i}^{n+1}-u_{i}^{n}}{\\triangle{t}}\n",
        "\\end{equation}\n",
        " * CS = Central Space\n",
        "\\begin{equation}\n",
        "\\nu\\frac{\\partial^{2}{u}}{\\partial{y}^{2}} = \\nu\\frac{u_{i+1}^{n}-2u_{i}^{n}+u_{i-1}^{n}}{{\\triangle{y}}^2}\n",
        "\\end{equation}\n",
        "* 정리하면 아래와 같음\n",
        "\\begin{equation}\n",
        "u_{i}^{n+1} = du_{i+1}^{n} + (1-2d)u_{i}^{n}+du_{i-1}^{n}\n",
        "\\end{equation}\n",
        "\\begin{equation}\n",
        "d = \\frac{\\nu\\triangle{t}}{{\\triangle{y}}^2}\n",
        "\\end{equation}\n",
        "* 위의 방정식을 아래와 같은 조건으로 풀이함.\n",
        " * 환경 조건\n",
        "\\begin{equation}\n",
        "0m<y<0.04m\n",
        "\\end{equation}\n",
        "\\begin{equation}\n",
        "\\nu = 0.000217m^2/s\n",
        "\\end{equation}\n",
        "\\begin{equation}\n",
        "\\triangle{t}=0.000001s\n",
        "\\end{equation}\n",
        "\\begin{equation}\n",
        "\\triangle{y}=0.001m\n",
        "\\end{equation}\n",
        " * 초기값 조건\n",
        "\\begin{equation}\n",
        "u_{t=0} = 0m/s\n",
        "\\end{equation}\n",
        " * 경계 조건\n",
        "\\begin{equation}\n",
        "u_{h=0m} = 40m/s\n",
        "\\end{equation}\n",
        "\\begin{equation}\n",
        "u_{h=0.04m}=0m/s\n",
        "\\end{equation}\n"
      ]
    },
    {
      "cell_type": "markdown",
      "metadata": {
        "id": "3VJaj0VWkoC6",
        "colab_type": "text"
      },
      "source": [
        "## 확산방정식 풀이를 위한 모듈 불러오기"
      ]
    },
    {
      "cell_type": "code",
      "metadata": {
        "id": "ahfGw8FUics-",
        "colab_type": "code",
        "colab": {}
      },
      "source": [
        "import numpy as np"
      ],
      "execution_count": 0,
      "outputs": []
    },
    {
      "cell_type": "markdown",
      "metadata": {
        "id": "cAibeFLHkmcA",
        "colab_type": "text"
      },
      "source": [
        "## 주어진 조건에 따른 기본 변수 설정"
      ]
    },
    {
      "cell_type": "code",
      "metadata": {
        "id": "k-tZAsCckd2T",
        "colab_type": "code",
        "colab": {
          "base_uri": "https://localhost:8080/",
          "height": 35
        },
        "outputId": "2c4616f4-8369-482c-c0ab-ba146a20a567"
      },
      "source": [
        "h = 0.04\n",
        "nu = 0.000217\n",
        "dy = 0.00001\n",
        "dt = 0.0000001\n",
        "u0 = 40.0\n",
        "d = nu * dt / ( dy * dy )\n",
        "t_end = 0.005\n",
        "iteration = int(t_end / dt)\n",
        "time = 0.0\n",
        "number_of_grids = int(h / dy) + 1\n",
        "U = np.zeros(number_of_grids, dtype=np.float32)\n",
        "Unew = np.zeros(number_of_grids, dtype=np.float32)\n",
        "print(\"Grid size is %\"%number_of_grids)\n",
        "print(\"Diffusion number is %.4f\"%d)"
      ],
      "execution_count": 23,
      "outputs": [
        {
          "output_type": "stream",
          "text": [
            "Diffusion number is 0.2170\n"
          ],
          "name": "stdout"
        }
      ]
    },
    {
      "cell_type": "markdown",
      "metadata": {
        "id": "46IkLz9zpOJZ",
        "colab_type": "text"
      },
      "source": [
        "## 초기값 설정"
      ]
    },
    {
      "cell_type": "code",
      "metadata": {
        "id": "FkSbVUZFpQuF",
        "colab_type": "code",
        "colab": {}
      },
      "source": [
        "def initial_condition(U, Unew):\n",
        "    U = np.zeros(number_of_grids)\n",
        "    Unew = np.zeros(number_of_grids)\n",
        "    return U, Unew"
      ],
      "execution_count": 0,
      "outputs": []
    },
    {
      "cell_type": "markdown",
      "metadata": {
        "id": "YQei9PdUpa3d",
        "colab_type": "text"
      },
      "source": [
        "## 경계 조건 설정"
      ]
    },
    {
      "cell_type": "code",
      "metadata": {
        "id": "1FO0MCJpk0tC",
        "colab_type": "code",
        "colab": {}
      },
      "source": [
        "def boundary_condition(U, Unew):\n",
        "    U[0] = Unew[0] = u0\n",
        "    return U, Unew"
      ],
      "execution_count": 0,
      "outputs": []
    },
    {
      "cell_type": "markdown",
      "metadata": {
        "id": "AvdfoZqYB6-5",
        "colab_type": "text"
      },
      "source": [
        "## FTCS 연산 함수"
      ]
    },
    {
      "cell_type": "code",
      "metadata": {
        "id": "9u7ka-_yCJ4Q",
        "colab_type": "code",
        "colab": {}
      },
      "source": [
        "def FTCS_Numpy(U, Unew, diffusion):\n",
        "    for i in range(1, len(U)-1, 1):\n",
        "        Unew[i] = diffusion * (U[i-1] + U[i+1]) + (1.0 - 2.0 * diffusion) * U[i]\n",
        "    return Unew\n",
        "\n",
        "def Explicit_Solver(U, Unew, diffusion, iteration, time):\n",
        "    for i in range(iteration + 1):\n",
        "        FTCS_Numpy(U, Unew, diffusion)\n",
        "        U[0] = Unew[0] = u0\n",
        "        U = np.copy(Unew)\n",
        "        time += dt\n",
        "    return U"
      ],
      "execution_count": 0,
      "outputs": []
    },
    {
      "cell_type": "markdown",
      "metadata": {
        "id": "2teLxkxCpl2y",
        "colab_type": "text"
      },
      "source": [
        "## CPU기반 Numpy를 이용한 풀이 함수"
      ]
    },
    {
      "cell_type": "code",
      "metadata": {
        "id": "sXCLLWM8Jb4E",
        "colab_type": "code",
        "colab": {}
      },
      "source": [
        "def Parabolic_Numpy_CPU(U, Unew, diffusion, iteration, time):\n",
        "    U, Unew = initial_condition(U, Unew)\n",
        "    U, Unew = boundary_condition(U, Unew)\n",
        "    U = Explicit_Solver(U, Unew, diffusion, iteration, time)\n",
        "    return U\n",
        "U_numpy_cpu = Parabolic_Numpy_CPU(U, Unew, d, iteration, time)"
      ],
      "execution_count": 0,
      "outputs": []
    },
    {
      "cell_type": "markdown",
      "metadata": {
        "id": "EIPFlhwtJ6Nd",
        "colab_type": "text"
      },
      "source": [
        "## 연산 결과를 plotting 하기 위한 함수"
      ]
    },
    {
      "cell_type": "code",
      "metadata": {
        "id": "c5r6DZUhJ9hA",
        "colab_type": "code",
        "colab": {
          "base_uri": "https://localhost:8080/",
          "height": 273
        },
        "outputId": "9f2796d3-2eb3-4f25-b10a-9689a603e991"
      },
      "source": [
        "import matplotlib as mpl\n",
        "import matplotlib.pyplot as plt\n",
        "plt.style.use('classic')\n",
        "%matplotlib inline\n",
        "def plot(U):\n",
        "    fig = plt.figure()\n",
        "    plt.plot(U)\n",
        "plot(U_numpy_cpu)"
      ],
      "execution_count": 26,
      "outputs": [
        {
          "output_type": "display_data",
          "data": {
            "image/png": "[encoded data removed]",
            "text/plain": [
              "<Figure size 432x288 with 1 Axes>"
            ]
          },
          "metadata": {
            "tags": []
          }
        }
      ]
    },
    {
      "cell_type": "markdown",
      "metadata": {
        "id": "iz9Q_vpENSWY",
        "colab_type": "text"
      },
      "source": [
        "## Numba CPU를 이용한 함수"
      ]
    },
    {
      "cell_type": "code",
      "metadata": {
        "id": "BEZvuXqZM8of",
        "colab_type": "code",
        "colab": {
          "base_uri": "https://localhost:8080/",
          "height": 273
        },
        "outputId": "acfc879c-efd5-4a60-9934-b11316ee8850"
      },
      "source": [
        "import numba\n",
        "\n",
        "@numba.stencil\n",
        "def _FTCS_Numba(U, diffusion):\n",
        "    return diffusion * (U[-1] + U[1]) + (1.0 - 2.0 * diffusion) * U[0]\n",
        "\n",
        "@numba.njit\n",
        "def FTCS_Numba(U, Unew, diffusion):\n",
        "    Unew = _FTCS_Numba(U, diffusion)\n",
        "    return Unew\n",
        "\n",
        "def Explicit_Solver_numba_cpu(U, Unew, diffusion, iteration, time):\n",
        "    for i in range(iteration + 1):\n",
        "        Unew = FTCS_Numba(U, Unew, diffusion)\n",
        "        U[0] = Unew[0] = u0\n",
        "        U = np.copy(Unew)\n",
        "        time += dt\n",
        "    return U\n",
        "\n",
        "def Parabolic_Numba_CPU(U, Unew, diffusion, iteration, time):\n",
        "    U, Unew = initial_condition(U, Unew)\n",
        "    U, Unew = boundary_condition(U, Unew)\n",
        "    U = Explicit_Solver_numba_cpu(U, Unew, diffusion, iteration, time)\n",
        "    return U\n",
        "U_numba_cpu = Parabolic_Numba_CPU(U, Unew, d, iteration, time)\n",
        "plot(U_numba_cpu)"
      ],
      "execution_count": 27,
      "outputs": [
        {
          "output_type": "display_data",
          "data": {
            "image/png": "[encoded data removed]",
            "text/plain": [
              "<Figure size 432x288 with 1 Axes>"
            ]
          },
          "metadata": {
            "tags": []
          }
        }
      ]
    },
    {
      "cell_type": "markdown",
      "metadata": {
        "id": "fRlvQMz2QKF2",
        "colab_type": "text"
      },
      "source": [
        "## Numba GPU를 이용한 함수"
      ]
    },
    {
      "cell_type": "code",
      "metadata": {
        "id": "qjbBKIzhQUBb",
        "colab_type": "code",
        "colab": {
          "base_uri": "https://localhost:8080/",
          "height": 53
        },
        "outputId": "ea27c86e-6fe4-41cf-c124-3bc4fcc8bce4"
      },
      "source": [
        "!find / -iname 'libdevice'\n",
        "!find / -iname 'libnvvm.so'"
      ],
      "execution_count": 11,
      "outputs": [
        {
          "output_type": "stream",
          "text": [
            "/usr/local/cuda-10.0/nvvm/libdevice\n",
            "/usr/local/cuda-10.0/nvvm/lib64/libnvvm.so\n"
          ],
          "name": "stdout"
        }
      ]
    },
    {
      "cell_type": "code",
      "metadata": {
        "id": "2LK1HW7HQU9a",
        "colab_type": "code",
        "colab": {}
      },
      "source": [
        "import os\n",
        "os.environ['NUMBAPRO_LIBDEVICE'] = \"/usr/local/cuda-10.0/nvvm/libdevice\"\n",
        "os.environ['NUMBAPRO_NVVM'] = \"/usr/local/cuda-10.0/nvvm/lib64/libnvvm.so\""
      ],
      "execution_count": 0,
      "outputs": []
    },
    {
      "cell_type": "code",
      "metadata": {
        "id": "_escnOGtQM5p",
        "colab_type": "code",
        "colab": {
          "base_uri": "https://localhost:8080/",
          "height": 273
        },
        "outputId": "5751addc-a905-45aa-8a81-d2ba172c35c2"
      },
      "source": [
        "import numba\n",
        "from numba import cuda\n",
        "\n",
        "@cuda.jit\n",
        "def FTCS_Numba_cuda(U, Unew, diffusion):\n",
        "    start = cuda.grid(1)\n",
        "    stride = cuda.gridsize(1)\n",
        "    for i in range(start, U.shape[0], stride):\n",
        "        if i > 0:\n",
        "            if i < U.shape[0]-1:\n",
        "                Unew[i] = diffusion * (U[i-1] + U[i+1]) + (1.0 - 2.0 * diffusion) * U[i]\n",
        "\n",
        "def Explicit_Solver_numba_gpu(U, Unew, diffusion, iteration, time):\n",
        "    U_device = cuda.to_device(U)\n",
        "    Unew_device = cuda.to_device(Unew)\n",
        "    for i in range(iteration + 1):\n",
        "        FTCS_Numba_cuda(U_device, Unew_device, diffusion)\n",
        "        cuda.synchronize()\n",
        "        U_device = Unew_device\n",
        "        time += dt\n",
        "    U = U_device.copy_to_host()\n",
        "    return U\n",
        "\n",
        "def Parabolic_Numba_GPU(U, Unew, diffusion, iteration, time):\n",
        "    U, Unew = initial_condition(U, Unew)\n",
        "    U, Unew = boundary_condition(U, Unew)\n",
        "    U = Explicit_Solver_numba_gpu(U, Unew, diffusion, iteration, time)\n",
        "    return U\n",
        "U_numba_gpu = Parabolic_Numba_GPU(U, Unew, d, iteration, time)\n",
        "plot(U_numba_gpu)"
      ],
      "execution_count": 28,
      "outputs": [
        {
          "output_type": "display_data",
          "data": {
            "image/png": "[encoded data removed]",
            "text/plain": [
              "<Figure size 432x288 with 1 Axes>"
            ]
          },
          "metadata": {
            "tags": []
          }
        }
      ]
    },
    {
      "cell_type": "code",
      "metadata": {
        "id": "KgTNBEICLbb8",
        "colab_type": "code",
        "colab": {
          "base_uri": "https://localhost:8080/",
          "height": 35
        },
        "outputId": "2ff43d98-451a-4a6f-b621-285662a2bd67"
      },
      "source": [
        "%timeit U_numpy_cpu = Parabolic_Numpy_CPU(U, Unew, d, iteration, time)"
      ],
      "execution_count": 29,
      "outputs": [
        {
          "output_type": "stream",
          "text": [
            "1 loop, best of 3: 3min 5s per loop\n"
          ],
          "name": "stdout"
        }
      ]
    },
    {
      "cell_type": "code",
      "metadata": {
        "id": "NEGOXlOmN5QF",
        "colab_type": "code",
        "colab": {
          "base_uri": "https://localhost:8080/",
          "height": 35
        },
        "outputId": "7a5c43ba-8439-494d-9d95-41c97fdee21f"
      },
      "source": [
        "%timeit U_numba_cpu = Parabolic_Numba_CPU(U, Unew, d, iteration, time)"
      ],
      "execution_count": 30,
      "outputs": [
        {
          "output_type": "stream",
          "text": [
            "1 loop, best of 3: 745 ms per loop\n"
          ],
          "name": "stdout"
        }
      ]
    },
    {
      "cell_type": "code",
      "metadata": {
        "id": "Wf_pXn-CQDzn",
        "colab_type": "code",
        "colab": {
          "base_uri": "https://localhost:8080/",
          "height": 35
        },
        "outputId": "5c6dfd3b-493e-4cbb-c61d-47f9d89075c7"
      },
      "source": [
        "%timeit U_numba_gpu = Parabolic_Numba_GPU(U, Unew, d, iteration, time)"
      ],
      "execution_count": 31,
      "outputs": [
        {
          "output_type": "stream",
          "text": [
            "1 loop, best of 3: 43.5 s per loop\n"
          ],
          "name": "stdout"
        }
      ]
    },
    {
      "cell_type": "code",
      "metadata": {
        "id": "wmdIFPKkUEDp",
        "colab_type": "code",
        "colab": {
          "base_uri": "https://localhost:8080/",
          "height": 71
        },
        "outputId": "9a30387e-dfad-400f-e0a6-8cae32f63b86"
      },
      "source": [
        "print(U_numpy_cpu-U_numba_cpu)\n",
        "print(U_numpy_cpu-U_numba_gpu)"
      ],
      "execution_count": 32,
      "outputs": [
        {
          "output_type": "stream",
          "text": [
            "[0. 0. 0. ... 0. 0. 0.]\n",
            "[ 0.00000000e+000 -2.49399292e-002 -4.98787093e-002 ... -3.48516745e-121\n",
            " -1.73063947e-121  0.00000000e+000]\n"
          ],
          "name": "stdout"
        }
      ]
    },
    {
      "cell_type": "code",
      "metadata": {
        "id": "sFdRdnXQUQlG",
        "colab_type": "code",
        "colab": {}
      },
      "source": [
        ""
      ],
      "execution_count": 0,
      "outputs": []
    }
  ]
}