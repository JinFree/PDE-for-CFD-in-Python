{
  "nbformat": 4,
  "nbformat_minor": 0,
  "metadata": {
    "colab": {
      "name": "PDE_Hoffmann.ipynb",
      "version": "0.3.2",
      "provenance": [],
      "include_colab_link": true
    },
    "kernelspec": {
      "name": "python3",
      "display_name": "Python 3"
    }
  },
  "cells": [
    {
      "cell_type": "markdown",
      "metadata": {
        "id": "view-in-github",
        "colab_type": "text"
      },
      "source": [
        "<a href=\"https://colab.research.google.com/github/JinFree/PDE-for-CFD-in-Python/blob/master/PDE_Hoffmann.ipynb\" target=\"_parent\"><img src=\"https://colab.research.google.com/assets/colab-badge.svg\" alt=\"Open In Colab\"/></a>"
      ]
    },
    {
      "cell_type": "markdown",
      "metadata": {
        "id": "0UTseAjU5Z07",
        "colab_type": "text"
      },
      "source": [
        "# P.D.E. - Partial Differential Equation"
      ]
    },
    {
      "cell_type": "markdown",
      "metadata": {
        "id": "aUo7w-kY53xM",
        "colab_type": "text"
      },
      "source": [
        "## Parabolic"
      ]
    },
    {
      "cell_type": "markdown",
      "metadata": {
        "id": "mQd_HvSj57mE",
        "colab_type": "text"
      },
      "source": [
        "### Diffusion equation (확산방정식)"
      ]
    },
    {
      "cell_type": "markdown",
      "metadata": {
        "id": "3Vsg_bck6Y_F",
        "colab_type": "text"
      },
      "source": [
        "* 확산방정식의 형태는 아래와 같음.\n",
        "\\begin{equation}\n",
        "\\frac{\\partial{u}}{\\partial{y}} = \\nu \\frac{\\partial^{2}{u}}{\\partial{y}^{2}}\n",
        "\\end{equation}\n",
        "* Explicit FTCS 방법으로 푸는 예제임\n",
        " * FT = Forward Time\n",
        "\\begin{equation}\n",
        "\\frac{\\partial{u}}{\\partial{y}} = \\frac{u_{i}^{n+1}-u_{i}^{n}}{\\triangle{t}}\n",
        "\\end{equation}\n",
        " * CS = Central Space\n",
        "\\begin{equation}\n",
        "\\nu\\frac{\\partial^{2}{u}}{\\partial{y}^{2}} = \\nu\\frac{u_{i+1}^{n}-2u_{i}^{n}+u_{i-1}^{n}}{{\\triangle{y}}^2}\n",
        "\\end{equation}\n",
        "* 정리하면 아래와 같음\n",
        "\\begin{equation}\n",
        "u_{i}^{n+1} = du_{i+1}^{n} + (1-2d)u_{i}^{n}+du_{i-1}^{n}\n",
        "\\end{equation}\n",
        "\\begin{equation}\n",
        "d = \\frac{\\nu\\triangle{u}}{{\\triangle{y}}^2}\n",
        "\\end{equation}\n",
        "* 위의 방정식을 아래와 같은 조건으로 풀이함.\n",
        " * 환경 조건\n",
        "\\begin{equation}\n",
        "0m<y<0.04m\n",
        "\\end{equation}\n",
        "\\begin{equation}\n",
        "\\nu = 0.000217m^2/s\n",
        "\\end{equation}\n",
        "\\begin{equation}\n",
        "\\triangle{t}=0.000001s\n",
        "\\end{equation}\n",
        "\\begin{equation}\n",
        "\\triangle{y}=0.001m\n",
        "\\end{equation}\n",
        " * 초기값 조건\n",
        "\\begin{equation}\n",
        "u_{t=0} = 0m/s\n",
        "\\end{equation}\n",
        " * 경계 조건\n",
        "\\begin{equation}\n",
        "u_{h=0m} = 40m/s\n",
        "\\end{equation}\n",
        "\\begin{equation}\n",
        "u_{h=0.04m}=0m/s\n",
        "\\end{equation}\n"
      ]
    },
    {
      "cell_type": "markdown",
      "metadata": {
        "id": "I56nryCIDzdA",
        "colab_type": "text"
      },
      "source": [
        "## Elliptic"
      ]
    },
    {
      "cell_type": "markdown",
      "metadata": {
        "id": "OJrH4mRaJk1z",
        "colab_type": "text"
      },
      "source": [
        "### Laplace Equation (라플라스방정식)"
      ]
    },
    {
      "cell_type": "markdown",
      "metadata": {
        "id": "4hIleqKGMmf3",
        "colab_type": "text"
      },
      "source": [
        "* 라플라스방정식의 형태는 아래와 같음\n",
        "\\begin{equation}\n",
        "\\frac{\\partial^2{T}}{\\partial{x}^2} + \\frac{\\partial^2{T}}{\\partial{y}^2} = 0\n",
        "\\end{equation}\n",
        "* Jacobi 반복법으로 푸는 예제임\n",
        "\\begin{equation}\n",
        "\\frac{\\partial^2{T}}{\\partial{x}^2} = \\frac{T_{i+1}^{n}-2T_{i}^{n}+1+T_{i-1}^{n}}{(\\triangle{x})^2}\n",
        "\\end{equation}\n",
        "\\begin{equation}\n",
        "\\frac{\\partial^2{T}}{\\partial{y}^2} = \\frac{T_{j+1}^{n}-2T_{j}^{n}+1+T_{j-1}^{n}}{(\\triangle{y})^2}\\end{equation}\n",
        "* 정리하면 아래와 같음\n",
        "\\begin{equation}\n",
        "T_{i,j}^{n+1} = \\frac{1}{2(1+\\beta^2)}\n",
        "[T_{i+1,j}^{n}+T_{i-1,j}^{n}+\\beta^2(T_{i,j+1}^{n}+T_{i,j-1}^{n})]\n",
        "\\end{equation}\n",
        "\\begin{equation}\n",
        "\\beta=\\frac{\\triangle{x}}{\\triangle{y}}\n",
        "\\end{equation}\n",
        "* 위의 방정식을 아래와 같은 조건으로 풀이함.\n",
        " * 환경 조건\n",
        "\\begin{equation}\n",
        "0 < x < 1\n",
        "\\end{equation}\n",
        "\\begin{equation}\n",
        "0 < y < 2\n",
        "\\end{equation}\n",
        "\\begin{equation}\n",
        "\\triangle{x}=0.005\n",
        "\\end{equation}\n",
        "\\begin{equation}\n",
        "\\triangle{y}=0.005\n",
        "\\end{equation}\n",
        " * 초기값 조건 (이 문제에서 초기값은 결과에 영향을 주지 않음)\n",
        "\\begin{equation}\n",
        "T_{x, y} = 0\n",
        "\\end{equation}\n",
        " * 경계 조건\n",
        "\\begin{equation}\n",
        "T_{0, y} = 100\n",
        "\\end{equation}\n",
        "\\begin{equation}\n",
        "T_{1, y} = 0\n",
        "\\end{equation}\n",
        "\\begin{equation}\n",
        "T_{x, 0} = 0\n",
        "\\end{equation}\n",
        "\\begin{equation}\n",
        "T_{x, 2} = 0\n",
        "\\end{equation}\n"
      ]
    },
    {
      "cell_type": "markdown",
      "metadata": {
        "id": "EWuYqthRRVEI",
        "colab_type": "text"
      },
      "source": [
        "## Hyperbolic"
      ]
    },
    {
      "cell_type": "markdown",
      "metadata": {
        "id": "E8BtygVeRZ10",
        "colab_type": "text"
      },
      "source": [
        "### 1차 선형 파동방정식"
      ]
    },
    {
      "cell_type": "markdown",
      "metadata": {
        "id": "QJK6yBnRTE24",
        "colab_type": "text"
      },
      "source": [
        "* 1차 선형 파동방정식의 형태는 아래와 같음\n",
        "\\begin{equation}\n",
        "\\frac{\\partial{u}}{\\partial{t}} = -a\\frac{\\partial{u}}{\\partial{x}}\n",
        "\\end{equation}\n",
        "* Explicit 1st Upwind 방법으로 푸는 예제임\n",
        "\\begin{equation}\n",
        "\\frac{\\partial{u}}{\\partial{t}} = \n",
        "\\frac{u_{i}^{n+1}-u_{i}^{n}}{\\triangle{t}}\n",
        "\\end{equation}\n",
        "\\begin{equation}\n",
        "-a\\frac{\\partial{u}}{\\partial{x}} = \n",
        "-a\\frac{u_{i}^{n}-u_{i-1}^{n}}{\\triangle{x}}\n",
        "\\end{equation}\n",
        "* 정리하면 아래와 같음\n",
        "\\begin{equation}\n",
        "u_{i}^{n+1}=u_{i}^{n}-a\\frac{\\triangle{t}}{\\triangle{x}}(u_{i}^{n}-u_{i-1}^{n})\n",
        "\\end{equation}\n",
        "* 위의 방정식을 아래와 같은 조건으로 풀이함.\n",
        " * 환경 조건\n",
        "\\begin{equation}\n",
        "0 < x < 400\n",
        "\\end{equation}\n",
        "\\begin{equation}\n",
        "a = 250m/s\n",
        "\\end{equation}\n",
        "\\begin{equation}\n",
        "\\triangle{x}=5.0\n",
        "\\end{equation}\n",
        "\\begin{equation}\n",
        "\\triangle{t}=0.02\n",
        "\\end{equation}\n",
        " * 초기값 조건\n",
        "\\begin{matrix} u(x, 0)=0.0 & 0\\leq x \\leq 50 \\\\ u(x, 0)=100sin(\\pi\\frac{x-50}{60}) & 50 \\leq x \\leq 110 \\\\  u(x, 0)=0.0 & 110 \\leq x \\leq 400 \n",
        "\\end{matrix}\n",
        " * 경계 조건\n",
        "\\begin{equation}\n",
        "u(0,t)=0\n",
        "\\end{equation}\n",
        "\\begin{equation}\n",
        "u(400,t)=0\n",
        "\\end{equation}\n",
        " * CFL Condition\n",
        "\\begin{equation}\n",
        "c = a\\frac{\\triangle{t}}{\\triangle{x}} = 1\n",
        "\\end{equation}"
      ]
    },
    {
      "cell_type": "code",
      "metadata": {
        "id": "ZR1OAQYlDzza",
        "colab_type": "code",
        "colab": {}
      },
      "source": [
        ""
      ],
      "execution_count": 0,
      "outputs": []
    }
  ]
}