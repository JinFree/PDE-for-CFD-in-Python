{
  "nbformat": 4,
  "nbformat_minor": 0,
  "metadata": {
    "colab": {
      "name": "Elliptic.ipynb",
      "provenance": [],
      "include_colab_link": true
    },
    "kernelspec": {
      "name": "python3",
      "display_name": "Python 3"
    }
  },
  "cells": [
    {
      "cell_type": "markdown",
      "metadata": {
        "id": "view-in-github",
        "colab_type": "text"
      },
      "source": [
        "<a href=\"https://colab.research.google.com/github/JinFree/PDE-for-CFD-in-Python/blob/master/Elliptic.ipynb\" target=\"_parent\"><img src=\"https://colab.research.google.com/assets/colab-badge.svg\" alt=\"Open In Colab\"/></a>"
      ]
    },
    {
      "cell_type": "markdown",
      "metadata": {
        "id": "edsLJHhtkue5",
        "colab_type": "text"
      },
      "source": [
        "# Elliptic PDE"
      ]
    },
    {
      "cell_type": "markdown",
      "metadata": {
        "id": "JgyRguupkyuv",
        "colab_type": "text"
      },
      "source": [
        "## 라플라스방정식"
      ]
    },
    {
      "cell_type": "markdown",
      "metadata": {
        "id": "EPchQBDqk1AP",
        "colab_type": "text"
      },
      "source": [
        "* 라플라스방정식의 형태는 아래와 같음\n",
        "\\begin{equation}\n",
        "\\frac{\\partial^2{T}}{\\partial{x}^2} + \\frac{\\partial^2{T}}{\\partial{y}^2} = 0\n",
        "\\end{equation}\n",
        "* Jacobi 반복법으로 푸는 예제임\n",
        "\\begin{equation}\n",
        "\\frac{\\partial^2{T}}{\\partial{x}^2} = \\frac{T_{i+1}^{n}-2T_{i}^{n}+1+T_{i-1}^{n}}{(\\triangle{x})^2}\n",
        "\\end{equation}\n",
        "\\begin{equation}\n",
        "\\frac{\\partial^2{T}}{\\partial{y}^2} = \\frac{T_{j+1}^{n}-2T_{j}^{n}+1+T_{j-1}^{n}}{(\\triangle{y})^2}\\end{equation}\n",
        "* 정리하면 아래와 같음\n",
        "\\begin{equation}\n",
        "T_{i,j}^{n+1} = \\frac{1}{2(1+\\beta^2)}\n",
        "[T_{i+1,j}^{n}+T_{i-1,j}^{n}+\\beta^2(T_{i,j+1}^{n}+T_{i,j-1}^{n})]\n",
        "\\end{equation}\n",
        "\\begin{equation}\n",
        "\\beta=\\frac{\\triangle{x}}{\\triangle{y}}\n",
        "\\end{equation}\n",
        "* 위의 방정식을 아래와 같은 조건으로 풀이함.\n",
        " * 환경 조건\n",
        "\\begin{equation}\n",
        "0 < x < 1\n",
        "\\end{equation}\n",
        "\\begin{equation}\n",
        "0 < y < 2\n",
        "\\end{equation}\n",
        "\\begin{equation}\n",
        "\\triangle{x}=0.005\n",
        "\\end{equation}\n",
        "\\begin{equation}\n",
        "\\triangle{y}=0.005\n",
        "\\end{equation}\n",
        " * 초기값 조건 (이 문제에서 초기값은 결과에 영향을 주지 않음)\n",
        "\\begin{equation}\n",
        "T_{x, y} = 0\n",
        "\\end{equation}\n",
        " * 경계 조건\n",
        "\\begin{equation}\n",
        "T_{0, y} = 100\n",
        "\\end{equation}\n",
        "\\begin{equation}\n",
        "T_{1, y} = 0\n",
        "\\end{equation}\n",
        "\\begin{equation}\n",
        "T_{x, 0} = 0\n",
        "\\end{equation}\n",
        "\\begin{equation}\n",
        "T_{x, 2} = 0\n",
        "\\end{equation}\n"
      ]
    },
    {
      "cell_type": "code",
      "metadata": {
        "id": "Ql5u1TRlj887",
        "colab_type": "code",
        "colab": {}
      },
      "source": [
        ""
      ],
      "execution_count": 0,
      "outputs": []
    }
  ]
}